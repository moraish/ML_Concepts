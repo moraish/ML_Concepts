{
  "nbformat": 4,
  "nbformat_minor": 0,
  "metadata": {
    "colab": {
      "provenance": [],
      "authorship_tag": "ABX9TyMej++RtSGzqpP+aX1j7UEk",
      "include_colab_link": true
    },
    "kernelspec": {
      "name": "python3",
      "display_name": "Python 3"
    },
    "language_info": {
      "name": "python"
    }
  },
  "cells": [
    {
      "cell_type": "markdown",
      "metadata": {
        "id": "view-in-github",
        "colab_type": "text"
      },
      "source": [
        "<a href=\"https://colab.research.google.com/github/moraish/ML_Concepts/blob/main/00_pytorch.ipynb\" target=\"_parent\"><img src=\"https://colab.research.google.com/assets/colab-badge.svg\" alt=\"Open In Colab\"/></a>"
      ]
    },
    {
      "cell_type": "code",
      "execution_count": 1,
      "metadata": {
        "id": "-qYe4jX7VgJp"
      },
      "outputs": [],
      "source": [
        "import torch"
      ]
    },
    {
      "cell_type": "code",
      "source": [
        "torch.__version__"
      ],
      "metadata": {
        "colab": {
          "base_uri": "https://localhost:8080/",
          "height": 35
        },
        "id": "XHwIytnPVlbN",
        "outputId": "500f5f58-885c-4d9c-e7bd-ce44be6c89d3"
      },
      "execution_count": 2,
      "outputs": [
        {
          "output_type": "execute_result",
          "data": {
            "text/plain": [
              "'2.4.1+cu121'"
            ],
            "application/vnd.google.colaboratory.intrinsic+json": {
              "type": "string"
            }
          },
          "metadata": {},
          "execution_count": 2
        }
      ]
    },
    {
      "cell_type": "code",
      "source": [
        "# Scalar\n",
        "scalar = torch.tensor(7)\n",
        "scalar"
      ],
      "metadata": {
        "colab": {
          "base_uri": "https://localhost:8080/"
        },
        "id": "P6uXrEZQVzs-",
        "outputId": "9873822c-e284-45c9-835d-552d88454b1b"
      },
      "execution_count": 3,
      "outputs": [
        {
          "output_type": "execute_result",
          "data": {
            "text/plain": [
              "tensor(7)"
            ]
          },
          "metadata": {},
          "execution_count": 3
        }
      ]
    },
    {
      "cell_type": "code",
      "source": [
        "scalar.ndim"
      ],
      "metadata": {
        "colab": {
          "base_uri": "https://localhost:8080/"
        },
        "id": "yHyYJokiXVDj",
        "outputId": "2f6943f0-8a27-4527-8add-4fd5730bf02b"
      },
      "execution_count": 4,
      "outputs": [
        {
          "output_type": "execute_result",
          "data": {
            "text/plain": [
              "0"
            ]
          },
          "metadata": {},
          "execution_count": 4
        }
      ]
    },
    {
      "cell_type": "code",
      "source": [
        "scalar.item()"
      ],
      "metadata": {
        "colab": {
          "base_uri": "https://localhost:8080/"
        },
        "id": "1xf1Xn7DXaG2",
        "outputId": "f70a068e-d7ee-4feb-b480-dc924d8cf571"
      },
      "execution_count": 5,
      "outputs": [
        {
          "output_type": "execute_result",
          "data": {
            "text/plain": [
              "7"
            ]
          },
          "metadata": {},
          "execution_count": 5
        }
      ]
    },
    {
      "cell_type": "code",
      "source": [
        "vector = torch.tensor([3,2])\n",
        "vector"
      ],
      "metadata": {
        "colab": {
          "base_uri": "https://localhost:8080/"
        },
        "id": "xunJzOXJXfNN",
        "outputId": "92085331-0f3a-456b-c85d-d68ae157677a"
      },
      "execution_count": 6,
      "outputs": [
        {
          "output_type": "execute_result",
          "data": {
            "text/plain": [
              "tensor([3, 2])"
            ]
          },
          "metadata": {},
          "execution_count": 6
        }
      ]
    },
    {
      "cell_type": "code",
      "source": [
        "vector.ndim"
      ],
      "metadata": {
        "colab": {
          "base_uri": "https://localhost:8080/"
        },
        "id": "4fBwloIJXzJS",
        "outputId": "bdd8961a-503e-41fc-e2e0-4162107177f5"
      },
      "execution_count": 7,
      "outputs": [
        {
          "output_type": "execute_result",
          "data": {
            "text/plain": [
              "1"
            ]
          },
          "metadata": {},
          "execution_count": 7
        }
      ]
    },
    {
      "cell_type": "code",
      "source": [
        "vector.shape"
      ],
      "metadata": {
        "colab": {
          "base_uri": "https://localhost:8080/"
        },
        "id": "Dqdvc_q4Xzqk",
        "outputId": "9fabca89-edf0-40a3-c7cb-73136679cf04"
      },
      "execution_count": 8,
      "outputs": [
        {
          "output_type": "execute_result",
          "data": {
            "text/plain": [
              "torch.Size([2])"
            ]
          },
          "metadata": {},
          "execution_count": 8
        }
      ]
    },
    {
      "cell_type": "code",
      "source": [
        "MATRIX = torch.tensor([[1,2,3], [4,5,6]])\n",
        "MATRIX"
      ],
      "metadata": {
        "colab": {
          "base_uri": "https://localhost:8080/"
        },
        "id": "-ZjqvDRGYAJ2",
        "outputId": "54e41768-07be-4002-9049-5a5751633660"
      },
      "execution_count": 9,
      "outputs": [
        {
          "output_type": "execute_result",
          "data": {
            "text/plain": [
              "tensor([[1, 2, 3],\n",
              "        [4, 5, 6]])"
            ]
          },
          "metadata": {},
          "execution_count": 9
        }
      ]
    },
    {
      "cell_type": "code",
      "source": [
        "MATRIX.ndim"
      ],
      "metadata": {
        "colab": {
          "base_uri": "https://localhost:8080/"
        },
        "id": "iFqbsDHLYBM5",
        "outputId": "1a9f62f5-6f68-413d-905c-d44e64d0bd93"
      },
      "execution_count": 10,
      "outputs": [
        {
          "output_type": "execute_result",
          "data": {
            "text/plain": [
              "2"
            ]
          },
          "metadata": {},
          "execution_count": 10
        }
      ]
    },
    {
      "cell_type": "code",
      "source": [
        "MATRIX.shape"
      ],
      "metadata": {
        "colab": {
          "base_uri": "https://localhost:8080/"
        },
        "id": "dPdkBeBUYZw9",
        "outputId": "df8f8442-e24b-4938-90c7-369dc86f4602"
      },
      "execution_count": 11,
      "outputs": [
        {
          "output_type": "execute_result",
          "data": {
            "text/plain": [
              "torch.Size([2, 3])"
            ]
          },
          "metadata": {},
          "execution_count": 11
        }
      ]
    },
    {
      "cell_type": "code",
      "source": [
        "VECTOR = torch.tensor([[[1,2,3], [4,5,6], [7,8,9]]])\n",
        "VECTOR"
      ],
      "metadata": {
        "colab": {
          "base_uri": "https://localhost:8080/"
        },
        "id": "CM1EPR7OYa1F",
        "outputId": "b03cc53f-9389-486f-a63a-2969b8f70e8b"
      },
      "execution_count": 12,
      "outputs": [
        {
          "output_type": "execute_result",
          "data": {
            "text/plain": [
              "tensor([[[1, 2, 3],\n",
              "         [4, 5, 6],\n",
              "         [7, 8, 9]]])"
            ]
          },
          "metadata": {},
          "execution_count": 12
        }
      ]
    },
    {
      "cell_type": "code",
      "source": [
        "VECTOR.ndim"
      ],
      "metadata": {
        "colab": {
          "base_uri": "https://localhost:8080/"
        },
        "id": "5V8KY9N1Yeqa",
        "outputId": "2f82ed37-9b44-478a-ad11-66950e5528ed"
      },
      "execution_count": 13,
      "outputs": [
        {
          "output_type": "execute_result",
          "data": {
            "text/plain": [
              "3"
            ]
          },
          "metadata": {},
          "execution_count": 13
        }
      ]
    },
    {
      "cell_type": "code",
      "source": [
        "VECTOR.shape"
      ],
      "metadata": {
        "colab": {
          "base_uri": "https://localhost:8080/"
        },
        "id": "RqeWI-U8ZcS5",
        "outputId": "9361e8ba-9ff2-4167-caef-993006252408"
      },
      "execution_count": 14,
      "outputs": [
        {
          "output_type": "execute_result",
          "data": {
            "text/plain": [
              "torch.Size([1, 3, 3])"
            ]
          },
          "metadata": {},
          "execution_count": 14
        }
      ]
    },
    {
      "cell_type": "markdown",
      "source": [
        "## Random Tensors"
      ],
      "metadata": {
        "id": "pKfC9lVGbUEd"
      }
    },
    {
      "cell_type": "code",
      "source": [
        "random_tensor = torch.rand(size=(3,3))\n",
        "random_tensor"
      ],
      "metadata": {
        "colab": {
          "base_uri": "https://localhost:8080/"
        },
        "id": "PJ6FF0zUZeEf",
        "outputId": "744b1552-75e9-4b8d-ba6b-706442e7dc69"
      },
      "execution_count": 15,
      "outputs": [
        {
          "output_type": "execute_result",
          "data": {
            "text/plain": [
              "tensor([[0.1335, 0.2767, 0.8230],\n",
              "        [0.4752, 0.0291, 0.6395],\n",
              "        [0.4041, 0.0733, 0.0682]])"
            ]
          },
          "metadata": {},
          "execution_count": 15
        }
      ]
    },
    {
      "cell_type": "code",
      "source": [
        "random_tensor.dtype, random_tensor.ndim, random_tensor.shape"
      ],
      "metadata": {
        "colab": {
          "base_uri": "https://localhost:8080/"
        },
        "id": "C6YIA9NMbblH",
        "outputId": "a41851bf-526a-4d86-af9d-691b52d49876"
      },
      "execution_count": 16,
      "outputs": [
        {
          "output_type": "execute_result",
          "data": {
            "text/plain": [
              "(torch.float32, 2, torch.Size([3, 3]))"
            ]
          },
          "metadata": {},
          "execution_count": 16
        }
      ]
    },
    {
      "cell_type": "code",
      "source": [
        "zeros = torch.zeros(size=(2,3))\n",
        "zeros, zeros.ndim"
      ],
      "metadata": {
        "colab": {
          "base_uri": "https://localhost:8080/"
        },
        "id": "JC4GKHUEbgfX",
        "outputId": "3816ab13-0a42-43bb-c936-a3c06f396055"
      },
      "execution_count": 17,
      "outputs": [
        {
          "output_type": "execute_result",
          "data": {
            "text/plain": [
              "(tensor([[0., 0., 0.],\n",
              "         [0., 0., 0.]]),\n",
              " 2)"
            ]
          },
          "metadata": {},
          "execution_count": 17
        }
      ]
    },
    {
      "cell_type": "code",
      "source": [
        "ones = torch.ones(size=(2,3,4))\n",
        "ones, ones.shape"
      ],
      "metadata": {
        "colab": {
          "base_uri": "https://localhost:8080/"
        },
        "id": "_qeGwRVbb9XH",
        "outputId": "12422f7f-264c-466b-f06b-9e72eb058a60"
      },
      "execution_count": 18,
      "outputs": [
        {
          "output_type": "execute_result",
          "data": {
            "text/plain": [
              "(tensor([[[1., 1., 1., 1.],\n",
              "          [1., 1., 1., 1.],\n",
              "          [1., 1., 1., 1.]],\n",
              " \n",
              "         [[1., 1., 1., 1.],\n",
              "          [1., 1., 1., 1.],\n",
              "          [1., 1., 1., 1.]]]),\n",
              " torch.Size([2, 3, 4]))"
            ]
          },
          "metadata": {},
          "execution_count": 18
        }
      ]
    },
    {
      "cell_type": "code",
      "source": [
        "arange_vec = torch.arange(0,10,2)\n",
        "arange_vec"
      ],
      "metadata": {
        "colab": {
          "base_uri": "https://localhost:8080/"
        },
        "id": "jDnMEBpNcCsZ",
        "outputId": "715f68fc-57ee-4fd0-9b9f-c8f343eda9b7"
      },
      "execution_count": 19,
      "outputs": [
        {
          "output_type": "execute_result",
          "data": {
            "text/plain": [
              "tensor([0, 2, 4, 6, 8])"
            ]
          },
          "metadata": {},
          "execution_count": 19
        }
      ]
    },
    {
      "cell_type": "code",
      "source": [
        "zeros_like = torch.zeros_like(arange_vec)\n",
        "zeros_like"
      ],
      "metadata": {
        "colab": {
          "base_uri": "https://localhost:8080/"
        },
        "id": "xGec56xNexuU",
        "outputId": "99a9e7da-027d-4a6f-a86b-61ee633d544c"
      },
      "execution_count": 20,
      "outputs": [
        {
          "output_type": "execute_result",
          "data": {
            "text/plain": [
              "tensor([0, 0, 0, 0, 0])"
            ]
          },
          "metadata": {},
          "execution_count": 20
        }
      ]
    },
    {
      "cell_type": "code",
      "source": [
        "ones_like = torch.ones_like(arange_vec)\n",
        "ones_like"
      ],
      "metadata": {
        "colab": {
          "base_uri": "https://localhost:8080/"
        },
        "id": "6pQbvy16fApo",
        "outputId": "867d2c64-bb05-40e5-f1ff-11515462cd52"
      },
      "execution_count": 21,
      "outputs": [
        {
          "output_type": "execute_result",
          "data": {
            "text/plain": [
              "tensor([1, 1, 1, 1, 1])"
            ]
          },
          "metadata": {},
          "execution_count": 21
        }
      ]
    },
    {
      "cell_type": "code",
      "source": [
        "float_32_tensor = torch.tensor([3.0, 6.0, 9.0], dtype=None, device=None, requires_grad=False)\n",
        "\n",
        "float_32_tensor.shape, float_32_tensor.dtype, float_32_tensor.device"
      ],
      "metadata": {
        "id": "q9iO3EcGfFi2",
        "colab": {
          "base_uri": "https://localhost:8080/"
        },
        "outputId": "a3819119-bbc8-4a6c-d754-83e9ee00a8e9"
      },
      "execution_count": 24,
      "outputs": [
        {
          "output_type": "execute_result",
          "data": {
            "text/plain": [
              "(torch.Size([3]), torch.float32, device(type='cpu'))"
            ]
          },
          "metadata": {},
          "execution_count": 24
        }
      ]
    },
    {
      "cell_type": "code",
      "source": [
        "float_16_tensor = torch.tensor([3.0, 6.0, 9.0], dtype=torch.float16)\n",
        "\n",
        "float_16_tensor.dtype"
      ],
      "metadata": {
        "colab": {
          "base_uri": "https://localhost:8080/"
        },
        "id": "tAL-eelxJ4wS",
        "outputId": "bf0c010c-88ea-4d43-ec0b-d3f95f96e63f"
      },
      "execution_count": 25,
      "outputs": [
        {
          "output_type": "execute_result",
          "data": {
            "text/plain": [
              "torch.float16"
            ]
          },
          "metadata": {},
          "execution_count": 25
        }
      ]
    },
    {
      "cell_type": "code",
      "source": [
        "tensor = torch.tensor([10,20,30])"
      ],
      "metadata": {
        "id": "EQxZ1oerKSV1"
      },
      "execution_count": 26,
      "outputs": []
    },
    {
      "cell_type": "code",
      "source": [
        "tensor + 1"
      ],
      "metadata": {
        "colab": {
          "base_uri": "https://localhost:8080/"
        },
        "id": "_h28d6NeK676",
        "outputId": "01072fdb-43e1-43fe-91e0-0b62dfe9d4fa"
      },
      "execution_count": 27,
      "outputs": [
        {
          "output_type": "execute_result",
          "data": {
            "text/plain": [
              "tensor([11, 21, 31])"
            ]
          },
          "metadata": {},
          "execution_count": 27
        }
      ]
    },
    {
      "cell_type": "code",
      "source": [
        "tensor * 10"
      ],
      "metadata": {
        "colab": {
          "base_uri": "https://localhost:8080/"
        },
        "id": "rR7stEzsK8GD",
        "outputId": "ab62e6f8-0e01-43b5-f935-62d488347c7a"
      },
      "execution_count": 28,
      "outputs": [
        {
          "output_type": "execute_result",
          "data": {
            "text/plain": [
              "tensor([100, 200, 300])"
            ]
          },
          "metadata": {},
          "execution_count": 28
        }
      ]
    },
    {
      "cell_type": "code",
      "source": [
        "tensor - 10"
      ],
      "metadata": {
        "colab": {
          "base_uri": "https://localhost:8080/"
        },
        "id": "9Jn66bUtK9Xm",
        "outputId": "66264fba-b0cc-4cea-f0ef-7076f6f8ad3a"
      },
      "execution_count": 29,
      "outputs": [
        {
          "output_type": "execute_result",
          "data": {
            "text/plain": [
              "tensor([ 0, 10, 20])"
            ]
          },
          "metadata": {},
          "execution_count": 29
        }
      ]
    },
    {
      "cell_type": "code",
      "source": [
        "torch.mul(tensor, 10)"
      ],
      "metadata": {
        "colab": {
          "base_uri": "https://localhost:8080/"
        },
        "id": "-1PP3cY5LG9_",
        "outputId": "9d3a9b61-2028-46d4-91ec-9d2384d19870"
      },
      "execution_count": 30,
      "outputs": [
        {
          "output_type": "execute_result",
          "data": {
            "text/plain": [
              "tensor([100, 200, 300])"
            ]
          },
          "metadata": {},
          "execution_count": 30
        }
      ]
    },
    {
      "cell_type": "code",
      "source": [
        "torch.add(tensor, 5)"
      ],
      "metadata": {
        "colab": {
          "base_uri": "https://localhost:8080/"
        },
        "id": "SsKHYpVpLPIo",
        "outputId": "5a711136-9cc0-4417-bae2-e53f2191413c"
      },
      "execution_count": 31,
      "outputs": [
        {
          "output_type": "execute_result",
          "data": {
            "text/plain": [
              "tensor([15, 25, 35])"
            ]
          },
          "metadata": {},
          "execution_count": 31
        }
      ]
    },
    {
      "cell_type": "code",
      "source": [
        "tensor @ tensor # 100, 400, 900"
      ],
      "metadata": {
        "colab": {
          "base_uri": "https://localhost:8080/"
        },
        "id": "EGmQHw2bLQ7N",
        "outputId": "07d5b33b-6fd2-419b-edf4-fae595dd7fdc"
      },
      "execution_count": 32,
      "outputs": [
        {
          "output_type": "execute_result",
          "data": {
            "text/plain": [
              "tensor(1400)"
            ]
          },
          "metadata": {},
          "execution_count": 32
        }
      ]
    },
    {
      "cell_type": "code",
      "source": [
        "torch.matmul(tensor, tensor)"
      ],
      "metadata": {
        "colab": {
          "base_uri": "https://localhost:8080/"
        },
        "id": "S22UbhvcMxH1",
        "outputId": "e8695830-27a9-43f0-e6e2-515d5528df40"
      },
      "execution_count": 34,
      "outputs": [
        {
          "output_type": "execute_result",
          "data": {
            "text/plain": [
              "tensor(1400)"
            ]
          },
          "metadata": {},
          "execution_count": 34
        }
      ]
    },
    {
      "cell_type": "code",
      "source": [
        "tensor_A = torch.tensor([[[1, 2],\n",
        "                         [3, 4],\n",
        "                         [5, 6]]], dtype=torch.float32)\n",
        "\n",
        "tensor_A.shape"
      ],
      "metadata": {
        "colab": {
          "base_uri": "https://localhost:8080/"
        },
        "id": "TRdxVVk-Myij",
        "outputId": "73804e6d-fa19-406f-8dfc-f5d20e0f0fe3"
      },
      "execution_count": 38,
      "outputs": [
        {
          "output_type": "execute_result",
          "data": {
            "text/plain": [
              "torch.Size([1, 3, 2])"
            ]
          },
          "metadata": {},
          "execution_count": 38
        }
      ]
    },
    {
      "cell_type": "code",
      "source": [
        "tensor"
      ],
      "metadata": {
        "colab": {
          "base_uri": "https://localhost:8080/"
        },
        "id": "c2BFm8UoNSzA",
        "outputId": "bd8e2e65-7dcd-440c-8e14-c02e960cf219"
      },
      "execution_count": 39,
      "outputs": [
        {
          "output_type": "execute_result",
          "data": {
            "text/plain": [
              "tensor([10, 20, 30])"
            ]
          },
          "metadata": {},
          "execution_count": 39
        }
      ]
    },
    {
      "cell_type": "code",
      "source": [
        "tensor_A = torch.tensor([[1, 2],\n",
        "                         [3, 4],\n",
        "                         [5, 6]], dtype=torch.float32)\n",
        "tensor_A.T"
      ],
      "metadata": {
        "colab": {
          "base_uri": "https://localhost:8080/"
        },
        "id": "W_IDV_GkNjNb",
        "outputId": "83d6f0e1-ccbd-4c20-8059-2a93b649d5ed"
      },
      "execution_count": 5,
      "outputs": [
        {
          "output_type": "execute_result",
          "data": {
            "text/plain": [
              "tensor([[1., 3., 5.],\n",
              "        [2., 4., 6.]])"
            ]
          },
          "metadata": {},
          "execution_count": 5
        }
      ]
    },
    {
      "cell_type": "code",
      "source": [
        "linear = torch.nn.Linear(in_features=2, out_features=6)\n",
        "\n",
        "x = tensor_A\n",
        "output = linear(x)\n",
        "\n",
        "x.shape, output.shape"
      ],
      "metadata": {
        "colab": {
          "base_uri": "https://localhost:8080/"
        },
        "id": "mH-lsGq7Nj54",
        "outputId": "b058b7fe-b969-4676-8ae1-a170e27344ec"
      },
      "execution_count": 6,
      "outputs": [
        {
          "output_type": "execute_result",
          "data": {
            "text/plain": [
              "(torch.Size([3, 2]), torch.Size([3, 6]))"
            ]
          },
          "metadata": {},
          "execution_count": 6
        }
      ]
    },
    {
      "cell_type": "code",
      "source": [
        "x"
      ],
      "metadata": {
        "colab": {
          "base_uri": "https://localhost:8080/"
        },
        "id": "6EulAyvRYBOu",
        "outputId": "015e37f1-650a-4312-f3c6-524fbc59f82b"
      },
      "execution_count": 7,
      "outputs": [
        {
          "output_type": "execute_result",
          "data": {
            "text/plain": [
              "tensor([[1., 2.],\n",
              "        [3., 4.],\n",
              "        [5., 6.]])"
            ]
          },
          "metadata": {},
          "execution_count": 7
        }
      ]
    },
    {
      "cell_type": "code",
      "source": [
        "output"
      ],
      "metadata": {
        "colab": {
          "base_uri": "https://localhost:8080/"
        },
        "id": "vxTDElgrYCtT",
        "outputId": "6dfdb0e7-ef97-4829-9a48-3131b0edec18"
      },
      "execution_count": 8,
      "outputs": [
        {
          "output_type": "execute_result",
          "data": {
            "text/plain": [
              "tensor([[ 0.7762,  1.1924, -0.3635,  0.9028, -1.3197, -2.4060],\n",
              "        [ 1.5369,  3.0883,  0.5857,  3.0102, -3.8599, -4.7920],\n",
              "        [ 2.2976,  4.9841,  1.5348,  5.1177, -6.4001, -7.1779]],\n",
              "       grad_fn=<AddmmBackward0>)"
            ]
          },
          "metadata": {},
          "execution_count": 8
        }
      ]
    },
    {
      "cell_type": "code",
      "source": [
        "output.max(), output.min(), output.mean(), output.sum()"
      ],
      "metadata": {
        "colab": {
          "base_uri": "https://localhost:8080/"
        },
        "id": "zbFTfkV1YEJE",
        "outputId": "bd574892-37ff-4d08-f31d-8e354b51fc1c"
      },
      "execution_count": 9,
      "outputs": [
        {
          "output_type": "execute_result",
          "data": {
            "text/plain": [
              "(tensor(5.1177, grad_fn=<MaxBackward1>),\n",
              " tensor(-7.1779, grad_fn=<MinBackward1>),\n",
              " tensor(-0.0718, grad_fn=<MeanBackward0>),\n",
              " tensor(-1.2923, grad_fn=<SumBackward0>))"
            ]
          },
          "metadata": {},
          "execution_count": 9
        }
      ]
    },
    {
      "cell_type": "code",
      "source": [
        "torch.max(output), torch.min(output), torch.mean(output), torch.sum(output)"
      ],
      "metadata": {
        "colab": {
          "base_uri": "https://localhost:8080/"
        },
        "id": "2ZSlA8fmjAWs",
        "outputId": "7acdab1d-3984-4ec6-ed96-76509634d314"
      },
      "execution_count": 10,
      "outputs": [
        {
          "output_type": "execute_result",
          "data": {
            "text/plain": [
              "(tensor(5.1177, grad_fn=<MaxBackward1>),\n",
              " tensor(-7.1779, grad_fn=<MinBackward1>),\n",
              " tensor(-0.0718, grad_fn=<MeanBackward0>),\n",
              " tensor(-1.2923, grad_fn=<SumBackward0>))"
            ]
          },
          "metadata": {},
          "execution_count": 10
        }
      ]
    },
    {
      "cell_type": "code",
      "source": [
        "torch.argmax(output), torch.argmin(output)"
      ],
      "metadata": {
        "colab": {
          "base_uri": "https://localhost:8080/"
        },
        "id": "l6ucNQ7PjQr6",
        "outputId": "52fee6e6-a7a7-4296-867f-0d60b905fe91"
      },
      "execution_count": 12,
      "outputs": [
        {
          "output_type": "execute_result",
          "data": {
            "text/plain": [
              "(tensor(15), tensor(17))"
            ]
          },
          "metadata": {},
          "execution_count": 12
        }
      ]
    },
    {
      "cell_type": "code",
      "source": [
        "output.argmax(), output.argmin()"
      ],
      "metadata": {
        "colab": {
          "base_uri": "https://localhost:8080/"
        },
        "id": "rhLG_a4XjV7h",
        "outputId": "0ef39e01-c88d-4b04-8ad4-89ddf7ba5aa3"
      },
      "execution_count": 14,
      "outputs": [
        {
          "output_type": "execute_result",
          "data": {
            "text/plain": [
              "(tensor(15), tensor(17))"
            ]
          },
          "metadata": {},
          "execution_count": 14
        }
      ]
    },
    {
      "cell_type": "code",
      "source": [
        "tensor = torch.arange(10, 100, 10)\n",
        "tensor.dtype"
      ],
      "metadata": {
        "colab": {
          "base_uri": "https://localhost:8080/"
        },
        "id": "obttuBsQjcno",
        "outputId": "f59bbf25-e5d3-4417-b257-687224681df8"
      },
      "execution_count": 15,
      "outputs": [
        {
          "output_type": "execute_result",
          "data": {
            "text/plain": [
              "torch.int64"
            ]
          },
          "metadata": {},
          "execution_count": 15
        }
      ]
    },
    {
      "cell_type": "code",
      "source": [
        "tensor_float16 = tensor.type(torch.float16)\n",
        "tensor_float16.dtype, tensor_float16"
      ],
      "metadata": {
        "colab": {
          "base_uri": "https://localhost:8080/"
        },
        "id": "OekA6FhYkDM2",
        "outputId": "490bd770-857d-495b-d5be-7900b6ee978b"
      },
      "execution_count": 18,
      "outputs": [
        {
          "output_type": "execute_result",
          "data": {
            "text/plain": [
              "(torch.float16,\n",
              " tensor([10., 20., 30., 40., 50., 60., 70., 80., 90.], dtype=torch.float16))"
            ]
          },
          "metadata": {},
          "execution_count": 18
        }
      ]
    },
    {
      "cell_type": "code",
      "source": [
        "x = torch.arange(1., 8.)\n",
        "x, x.shape"
      ],
      "metadata": {
        "colab": {
          "base_uri": "https://localhost:8080/"
        },
        "id": "0bs1EPHhkPUD",
        "outputId": "51ccc056-952f-4ac6-ae26-5b6d60810109"
      },
      "execution_count": 27,
      "outputs": [
        {
          "output_type": "execute_result",
          "data": {
            "text/plain": [
              "(tensor([1., 2., 3., 4., 5., 6., 7.]), torch.Size([7]))"
            ]
          },
          "metadata": {},
          "execution_count": 27
        }
      ]
    },
    {
      "cell_type": "code",
      "source": [
        "x_reshaped = x.reshape(1,7)\n",
        "x_reshaped, x_reshaped.shape"
      ],
      "metadata": {
        "colab": {
          "base_uri": "https://localhost:8080/"
        },
        "id": "9GJ89pvwuisi",
        "outputId": "fe02d5e6-2581-4e09-a0c7-11a111d9b5a6"
      },
      "execution_count": 28,
      "outputs": [
        {
          "output_type": "execute_result",
          "data": {
            "text/plain": [
              "(tensor([[1., 2., 3., 4., 5., 6., 7.]]), torch.Size([1, 7]))"
            ]
          },
          "metadata": {},
          "execution_count": 28
        }
      ]
    },
    {
      "cell_type": "code",
      "source": [
        "z = x.view(1, 7)\n",
        "z, z.shape"
      ],
      "metadata": {
        "colab": {
          "base_uri": "https://localhost:8080/"
        },
        "id": "VN13TX_NuqSo",
        "outputId": "184682f6-7a7a-4c7e-b26a-d15f58bcb0a9"
      },
      "execution_count": 30,
      "outputs": [
        {
          "output_type": "execute_result",
          "data": {
            "text/plain": [
              "(tensor([[1., 2., 3., 4., 5., 6., 7.]]), torch.Size([1, 7]))"
            ]
          },
          "metadata": {},
          "execution_count": 30
        }
      ]
    },
    {
      "cell_type": "code",
      "source": [
        "z[:, 5] = 5\n",
        "z, x"
      ],
      "metadata": {
        "colab": {
          "base_uri": "https://localhost:8080/"
        },
        "id": "vU10XkKvvAC9",
        "outputId": "fd2e2743-a7ac-4609-8bf1-959ebc9e1458"
      },
      "execution_count": 32,
      "outputs": [
        {
          "output_type": "execute_result",
          "data": {
            "text/plain": [
              "(tensor([[1., 2., 3., 4., 5., 5., 7.]]), tensor([1., 2., 3., 4., 5., 5., 7.]))"
            ]
          },
          "metadata": {},
          "execution_count": 32
        }
      ]
    },
    {
      "cell_type": "code",
      "source": [
        "x_stacked = torch.stack([x,x,x,x,x], dim=0)\n",
        "x_stacked, x_stacked.shape"
      ],
      "metadata": {
        "colab": {
          "base_uri": "https://localhost:8080/"
        },
        "id": "NRtAPl6j2i6V",
        "outputId": "59c1b333-b4e9-445a-a497-6f76881939fd"
      },
      "execution_count": 33,
      "outputs": [
        {
          "output_type": "execute_result",
          "data": {
            "text/plain": [
              "(tensor([[1., 2., 3., 4., 5., 5., 7.],\n",
              "         [1., 2., 3., 4., 5., 5., 7.],\n",
              "         [1., 2., 3., 4., 5., 5., 7.],\n",
              "         [1., 2., 3., 4., 5., 5., 7.],\n",
              "         [1., 2., 3., 4., 5., 5., 7.]]),\n",
              " torch.Size([5, 7]))"
            ]
          },
          "metadata": {},
          "execution_count": 33
        }
      ]
    },
    {
      "cell_type": "code",
      "source": [
        "x_stacked = torch.stack([x_reshaped,x_reshaped,x_reshaped,x_reshaped,x_reshaped], dim=0)\n",
        "x_stacked, x_stacked.shape"
      ],
      "metadata": {
        "colab": {
          "base_uri": "https://localhost:8080/"
        },
        "id": "aEUtcoEq28TA",
        "outputId": "ff6b1b71-badf-4dbe-f447-39a72649db56"
      },
      "execution_count": 36,
      "outputs": [
        {
          "output_type": "execute_result",
          "data": {
            "text/plain": [
              "(tensor([[[1., 2., 3., 4., 5., 5., 7.]],\n",
              " \n",
              "         [[1., 2., 3., 4., 5., 5., 7.]],\n",
              " \n",
              "         [[1., 2., 3., 4., 5., 5., 7.]],\n",
              " \n",
              "         [[1., 2., 3., 4., 5., 5., 7.]],\n",
              " \n",
              "         [[1., 2., 3., 4., 5., 5., 7.]]]),\n",
              " torch.Size([5, 1, 7]))"
            ]
          },
          "metadata": {},
          "execution_count": 36
        }
      ]
    },
    {
      "cell_type": "code",
      "source": [
        "x_reshaped, x_reshaped.shape"
      ],
      "metadata": {
        "colab": {
          "base_uri": "https://localhost:8080/"
        },
        "id": "FnQ3aV1n3BTU",
        "outputId": "e5a959c9-b23c-4736-b5d5-5e3d1580f5da"
      },
      "execution_count": 37,
      "outputs": [
        {
          "output_type": "execute_result",
          "data": {
            "text/plain": [
              "(tensor([[1., 2., 3., 4., 5., 5., 7.]]), torch.Size([1, 7]))"
            ]
          },
          "metadata": {},
          "execution_count": 37
        }
      ]
    },
    {
      "cell_type": "code",
      "source": [
        "torch.squeeze(x_reshaped), torch.squeeze(x_reshaped).shape"
      ],
      "metadata": {
        "colab": {
          "base_uri": "https://localhost:8080/"
        },
        "id": "mf_c2G1h3HFU",
        "outputId": "5f01ff52-9bc4-4105-dfa1-3120664d1011"
      },
      "execution_count": 39,
      "outputs": [
        {
          "output_type": "execute_result",
          "data": {
            "text/plain": [
              "(tensor([1., 2., 3., 4., 5., 5., 7.]), torch.Size([7]))"
            ]
          },
          "metadata": {},
          "execution_count": 39
        }
      ]
    },
    {
      "cell_type": "code",
      "source": [
        "torch.squeeze(x_stacked), torch.squeeze(x_stacked).shape"
      ],
      "metadata": {
        "colab": {
          "base_uri": "https://localhost:8080/"
        },
        "id": "Q5OyVNQv3f8p",
        "outputId": "7311c144-3643-4f16-9789-7a1676e730ed"
      },
      "execution_count": 41,
      "outputs": [
        {
          "output_type": "execute_result",
          "data": {
            "text/plain": [
              "(tensor([[1., 2., 3., 4., 5., 5., 7.],\n",
              "         [1., 2., 3., 4., 5., 5., 7.],\n",
              "         [1., 2., 3., 4., 5., 5., 7.],\n",
              "         [1., 2., 3., 4., 5., 5., 7.],\n",
              "         [1., 2., 3., 4., 5., 5., 7.]]),\n",
              " torch.Size([5, 7]))"
            ]
          },
          "metadata": {},
          "execution_count": 41
        }
      ]
    },
    {
      "cell_type": "code",
      "source": [
        "x_rand = torch.rand(size=(3,224,224))\n",
        "x_rand, x_rand.shape"
      ],
      "metadata": {
        "colab": {
          "base_uri": "https://localhost:8080/"
        },
        "id": "cB6sTpSF3n7i",
        "outputId": "cda2bd4a-63f9-47c7-cce2-de6b4a12404a"
      },
      "execution_count": 42,
      "outputs": [
        {
          "output_type": "execute_result",
          "data": {
            "text/plain": [
              "(tensor([[[0.4121, 0.1540, 0.4192,  ..., 0.2901, 0.1496, 0.4730],\n",
              "          [0.3648, 0.2002, 0.8448,  ..., 0.0048, 0.0172, 0.8793],\n",
              "          [0.1505, 0.3896, 0.8874,  ..., 0.0801, 0.6156, 0.7624],\n",
              "          ...,\n",
              "          [0.7161, 0.7164, 0.1084,  ..., 0.8106, 0.6460, 0.8261],\n",
              "          [0.7186, 0.2549, 0.5211,  ..., 0.7221, 0.9577, 0.5896],\n",
              "          [0.7921, 0.4604, 0.1740,  ..., 0.6732, 0.1159, 0.5503]],\n",
              " \n",
              "         [[0.5961, 0.9042, 0.3415,  ..., 0.0252, 0.6126, 0.5362],\n",
              "          [0.7589, 0.9123, 0.1640,  ..., 0.2105, 0.5298, 0.7109],\n",
              "          [0.0149, 0.5986, 0.2699,  ..., 0.9683, 0.1451, 0.7802],\n",
              "          ...,\n",
              "          [0.0184, 0.2222, 0.2337,  ..., 0.1320, 0.3343, 0.6610],\n",
              "          [0.5979, 0.7645, 0.9734,  ..., 0.6990, 0.0307, 0.2741],\n",
              "          [0.6165, 0.6051, 0.9766,  ..., 0.1875, 0.6211, 0.9734]],\n",
              " \n",
              "         [[0.6556, 0.0616, 0.7935,  ..., 0.9740, 0.1714, 0.5274],\n",
              "          [0.1018, 0.4286, 0.9547,  ..., 0.3926, 0.6145, 0.3821],\n",
              "          [0.0604, 0.0145, 0.8194,  ..., 0.8174, 0.6173, 0.9654],\n",
              "          ...,\n",
              "          [0.1400, 0.5491, 0.3066,  ..., 0.6152, 0.1231, 0.6397],\n",
              "          [0.4770, 0.4431, 0.3201,  ..., 0.9682, 0.6573, 0.1377],\n",
              "          [0.0572, 0.0889, 0.1886,  ..., 0.7203, 0.7838, 0.3356]]]),\n",
              " torch.Size([3, 224, 224]))"
            ]
          },
          "metadata": {},
          "execution_count": 42
        }
      ]
    },
    {
      "cell_type": "code",
      "source": [
        "x_permuted = x_rand.permute(2,0,1)\n",
        "x_permuted, x_permuted.shape"
      ],
      "metadata": {
        "colab": {
          "base_uri": "https://localhost:8080/"
        },
        "id": "cCjhhzmN4DHn",
        "outputId": "2b8550e4-3a32-42cd-e391-9b4d5e90f6c2"
      },
      "execution_count": 43,
      "outputs": [
        {
          "output_type": "execute_result",
          "data": {
            "text/plain": [
              "(tensor([[[0.4121, 0.3648, 0.1505,  ..., 0.7161, 0.7186, 0.7921],\n",
              "          [0.5961, 0.7589, 0.0149,  ..., 0.0184, 0.5979, 0.6165],\n",
              "          [0.6556, 0.1018, 0.0604,  ..., 0.1400, 0.4770, 0.0572]],\n",
              " \n",
              "         [[0.1540, 0.2002, 0.3896,  ..., 0.7164, 0.2549, 0.4604],\n",
              "          [0.9042, 0.9123, 0.5986,  ..., 0.2222, 0.7645, 0.6051],\n",
              "          [0.0616, 0.4286, 0.0145,  ..., 0.5491, 0.4431, 0.0889]],\n",
              " \n",
              "         [[0.4192, 0.8448, 0.8874,  ..., 0.1084, 0.5211, 0.1740],\n",
              "          [0.3415, 0.1640, 0.2699,  ..., 0.2337, 0.9734, 0.9766],\n",
              "          [0.7935, 0.9547, 0.8194,  ..., 0.3066, 0.3201, 0.1886]],\n",
              " \n",
              "         ...,\n",
              " \n",
              "         [[0.2901, 0.0048, 0.0801,  ..., 0.8106, 0.7221, 0.6732],\n",
              "          [0.0252, 0.2105, 0.9683,  ..., 0.1320, 0.6990, 0.1875],\n",
              "          [0.9740, 0.3926, 0.8174,  ..., 0.6152, 0.9682, 0.7203]],\n",
              " \n",
              "         [[0.1496, 0.0172, 0.6156,  ..., 0.6460, 0.9577, 0.1159],\n",
              "          [0.6126, 0.5298, 0.1451,  ..., 0.3343, 0.0307, 0.6211],\n",
              "          [0.1714, 0.6145, 0.6173,  ..., 0.1231, 0.6573, 0.7838]],\n",
              " \n",
              "         [[0.4730, 0.8793, 0.7624,  ..., 0.8261, 0.5896, 0.5503],\n",
              "          [0.5362, 0.7109, 0.7802,  ..., 0.6610, 0.2741, 0.9734],\n",
              "          [0.5274, 0.3821, 0.9654,  ..., 0.6397, 0.1377, 0.3356]]]),\n",
              " torch.Size([224, 3, 224]))"
            ]
          },
          "metadata": {},
          "execution_count": 43
        }
      ]
    },
    {
      "cell_type": "code",
      "source": [
        "x_stacked"
      ],
      "metadata": {
        "colab": {
          "base_uri": "https://localhost:8080/"
        },
        "id": "VZ_YKOSn4NUw",
        "outputId": "070b2698-4085-4a53-8041-d7cf6f9c53ac"
      },
      "execution_count": 44,
      "outputs": [
        {
          "output_type": "execute_result",
          "data": {
            "text/plain": [
              "tensor([[[1., 2., 3., 4., 5., 5., 7.]],\n",
              "\n",
              "        [[1., 2., 3., 4., 5., 5., 7.]],\n",
              "\n",
              "        [[1., 2., 3., 4., 5., 5., 7.]],\n",
              "\n",
              "        [[1., 2., 3., 4., 5., 5., 7.]],\n",
              "\n",
              "        [[1., 2., 3., 4., 5., 5., 7.]]])"
            ]
          },
          "metadata": {},
          "execution_count": 44
        }
      ]
    },
    {
      "cell_type": "code",
      "source": [
        "x_stacked.shape"
      ],
      "metadata": {
        "colab": {
          "base_uri": "https://localhost:8080/"
        },
        "id": "zlMKbkb84cV5",
        "outputId": "cf0869d7-171f-46ea-caf7-4ee2ce047d15"
      },
      "execution_count": 45,
      "outputs": [
        {
          "output_type": "execute_result",
          "data": {
            "text/plain": [
              "torch.Size([5, 1, 7])"
            ]
          },
          "metadata": {},
          "execution_count": 45
        }
      ]
    },
    {
      "cell_type": "code",
      "source": [
        "x = torch.arange(1,10).reshape(1,3,3)\n",
        "x, x.shape"
      ],
      "metadata": {
        "colab": {
          "base_uri": "https://localhost:8080/"
        },
        "id": "3ogL2NEF4ipg",
        "outputId": "ed2057f3-70f6-4c2a-d7e0-3cf2fa88e7d1"
      },
      "execution_count": 46,
      "outputs": [
        {
          "output_type": "execute_result",
          "data": {
            "text/plain": [
              "(tensor([[[1, 2, 3],\n",
              "          [4, 5, 6],\n",
              "          [7, 8, 9]]]),\n",
              " torch.Size([1, 3, 3]))"
            ]
          },
          "metadata": {},
          "execution_count": 46
        }
      ]
    },
    {
      "cell_type": "code",
      "source": [
        "x[0]"
      ],
      "metadata": {
        "colab": {
          "base_uri": "https://localhost:8080/"
        },
        "id": "Inoz28DU6NLW",
        "outputId": "c715411f-6033-4bee-e2b2-030b2e223930"
      },
      "execution_count": 47,
      "outputs": [
        {
          "output_type": "execute_result",
          "data": {
            "text/plain": [
              "tensor([[1, 2, 3],\n",
              "        [4, 5, 6],\n",
              "        [7, 8, 9]])"
            ]
          },
          "metadata": {},
          "execution_count": 47
        }
      ]
    },
    {
      "cell_type": "code",
      "source": [
        "x[0][0]"
      ],
      "metadata": {
        "colab": {
          "base_uri": "https://localhost:8080/"
        },
        "id": "85EPEUOw6ShH",
        "outputId": "d8287434-dbd6-45fb-c937-79781c6d9d8e"
      },
      "execution_count": 48,
      "outputs": [
        {
          "output_type": "execute_result",
          "data": {
            "text/plain": [
              "tensor([1, 2, 3])"
            ]
          },
          "metadata": {},
          "execution_count": 48
        }
      ]
    },
    {
      "cell_type": "code",
      "source": [
        "x[0][0][0]"
      ],
      "metadata": {
        "colab": {
          "base_uri": "https://localhost:8080/"
        },
        "id": "fV5AGGqY6UXQ",
        "outputId": "ac214e72-1f36-4073-e498-297f2768105a"
      },
      "execution_count": 49,
      "outputs": [
        {
          "output_type": "execute_result",
          "data": {
            "text/plain": [
              "tensor(1)"
            ]
          },
          "metadata": {},
          "execution_count": 49
        }
      ]
    },
    {
      "cell_type": "code",
      "source": [
        "x[:,:,1]"
      ],
      "metadata": {
        "colab": {
          "base_uri": "https://localhost:8080/"
        },
        "id": "Jb9V2z9L6V6A",
        "outputId": "697c5a8a-50fa-4d82-f992-cdd3ab596ecd"
      },
      "execution_count": 52,
      "outputs": [
        {
          "output_type": "execute_result",
          "data": {
            "text/plain": [
              "tensor([[2, 5, 8]])"
            ]
          },
          "metadata": {},
          "execution_count": 52
        }
      ]
    },
    {
      "cell_type": "code",
      "source": [
        "# Check for GPU\n",
        "import torch\n",
        "torch.cuda.is_available()"
      ],
      "metadata": {
        "colab": {
          "base_uri": "https://localhost:8080/"
        },
        "id": "9O-brNvu6cw1",
        "outputId": "6d1ff396-9036-45a6-daba-fa971d11218b"
      },
      "execution_count": 53,
      "outputs": [
        {
          "output_type": "execute_result",
          "data": {
            "text/plain": [
              "False"
            ]
          },
          "metadata": {},
          "execution_count": 53
        }
      ]
    },
    {
      "cell_type": "code",
      "source": [
        "torch.backends.mps.is_available() # Note this will print false if you're not running on a Mac"
      ],
      "metadata": {
        "colab": {
          "base_uri": "https://localhost:8080/"
        },
        "id": "JV4R4Nvn77zy",
        "outputId": "e7e55b99-b35d-4908-940d-846910de1c63"
      },
      "execution_count": 54,
      "outputs": [
        {
          "output_type": "execute_result",
          "data": {
            "text/plain": [
              "False"
            ]
          },
          "metadata": {},
          "execution_count": 54
        }
      ]
    },
    {
      "cell_type": "code",
      "source": [],
      "metadata": {
        "id": "puUBN9Sj7_a8"
      },
      "execution_count": null,
      "outputs": []
    }
  ]
}